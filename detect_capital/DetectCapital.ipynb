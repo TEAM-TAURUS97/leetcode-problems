{
 "cells": [
  {
   "cell_type": "code",
   "execution_count": 4,
   "metadata": {},
   "outputs": [],
   "source": [
    "public boolean detectCapitalUse(String word) {\n",
    "  if (word.length() == 1) return true;\n",
    "  int isCapCount = 0;\n",
    "  for (int i = 0; i < word.length(); i++) {\n",
    "    if (Character.isUpperCase(word.charAt(i))) {\n",
    "      isCapCount++;\n",
    "    }\n",
    "  }\n",
    "  if (isCapCount == word.length() || isCapCount == 0) return true;\n",
    "  else return isCapCount == 1 && Character.isUpperCase(word.charAt(0));\n",
    "}"
   ]
  },
  {
   "cell_type": "markdown",
   "metadata": {},
   "source": [
    "## Example 1 \n",
    "Input: word = \"USA\"\n",
    "Output: true"
   ]
  },
  {
   "cell_type": "code",
   "execution_count": 5,
   "metadata": {},
   "outputs": [
    {
     "name": "stdout",
     "output_type": "stream",
     "text": [
      "true\n"
     ]
    }
   ],
   "source": [
    "System.out.println(detectCapitalUse(\"USA\"));"
   ]
  },
  {
   "cell_type": "markdown",
   "metadata": {},
   "source": [
    "## Example 2 \n",
    "\n",
    "Input: word = \"FlaG\"\n",
    "Output: false"
   ]
  },
  {
   "cell_type": "code",
   "execution_count": 6,
   "metadata": {},
   "outputs": [
    {
     "name": "stdout",
     "output_type": "stream",
     "text": [
      "false\n"
     ]
    }
   ],
   "source": [
    "System.out.println(detectCapitalUse(\"FlaG\"));"
   ]
  }
 ],
 "metadata": {
  "kernelspec": {
   "display_name": "Java",
   "language": "java",
   "name": "java"
  },
  "language_info": {
   "codemirror_mode": "java",
   "file_extension": ".jshell",
   "mimetype": "text/x-java-source",
   "name": "Java",
   "pygments_lexer": "java",
   "version": "17.0.5+8-Ubuntu-2ubuntu120.04"
  }
 },
 "nbformat": 4,
 "nbformat_minor": 4
}
