{
 "cells": [
  {
   "cell_type": "markdown",
   "metadata": {},
   "source": [
    "Given an array of strings strs, group the anagrams together. You can return the answer in any order.\n",
    "\n",
    "An Anagram is a word or phrase formed by rearranging the letters of a different word or phrase, typically using all the original letters exactly once."
   ]
  },
  {
   "cell_type": "markdown",
   "metadata": {},
   "source": [
    "Example 1:\n",
    "\n",
    "Input: strs = [\"eat\",\"tea\",\"tan\",\"ate\",\"nat\",\"bat\"]\n",
    "Output: [[\"bat\"],[\"nat\",\"tan\"],[\"ate\",\"eat\",\"tea\"]]"
   ]
  },
  {
   "cell_type": "markdown",
   "metadata": {},
   "source": [
    "Example 2:\n",
    "\n",
    "Input: strs = [\"\"]\n",
    "Output: [[\"\"]]"
   ]
  },
  {
   "cell_type": "markdown",
   "metadata": {},
   "source": [
    "Example 3:\n",
    "\n",
    "Input: strs = [\"a\"]\n",
    "Output: [[\"a\"]]"
   ]
  },
  {
   "cell_type": "code",
   "execution_count": 6,
   "metadata": {},
   "outputs": [
    {
     "name": "stdout",
     "output_type": "stream",
     "text": [
      "[tan,nat][bat][eat,tea,ate]\n",
      "*************************************\n",
      "[]\n",
      "*************************************\n",
      "[a]"
     ]
    }
   ],
   "source": [
    "import java.util.ArrayList;\n",
    "import java.util.Arrays;\n",
    "import java.util.HashMap;\n",
    "import java.util.List;\n",
    "import java.util.Map;\n",
    "import java.util.stream.Collectors;\n",
    "\n",
    "public List<List<String>> groupAnagrams(String[] strs) {\n",
    "  List<String> sortedList = sortList(strs);\n",
    "  Map <String, List<Integer>> indexMap = new HashMap<>();\n",
    "  for (int i = 0; i < sortedList.size(); i++) {\n",
    "    indexMap.computeIfAbsent(sortedList.get(i), key -> new ArrayList <> ()).add(i);\n",
    "  }\n",
    "  return indexMap.values()\n",
    "  .stream()\n",
    "  .map(integers -> integers.stream().map(v -> strs[v]).collect(Collectors.toList()))\n",
    "  .collect(Collectors.toList());\n",
    "\n",
    "}\n",
    "\n",
    "private List < String > sortList(String[] strs) {\n",
    "  List < String > sortedList = new ArrayList < > ();\n",
    "  for (String str: strs) {\n",
    "    char[] charArray = str.toCharArray();\n",
    "    Arrays.sort(charArray);\n",
    "    sortedList.add(Arrays.toString(charArray));\n",
    "  }\n",
    "  return sortedList;\n",
    "}\n",
    "\n",
    "\n",
    "String[] strs1 = {\"eat\",\"tea\",\"tan\",\"ate\",\"nat\",\"bat\"};\n",
    "groupAnagrams(strs1).forEach(each -> System.out.print(\"[\" + String.join(\",\", each) + \"]\"));\n",
    "\n",
    "System.out.println(\"\\n*************************************\");\n",
    "String[] strs2 = {\"\"};\n",
    "groupAnagrams(strs2).forEach(each -> System.out.print(\"[\" + String.join(\",\", each) + \"]\"));\n",
    "\n",
    "System.out.println(\"\\n*************************************\");\n",
    "String[] strs3 = {\"a\"};\n",
    "groupAnagrams(strs3).forEach(each -> System.out.print(\"[\" + String.join(\",\", each) + \"]\"));"
   ]
  },
  {
   "cell_type": "code",
   "execution_count": null,
   "metadata": {},
   "outputs": [],
   "source": []
  }
 ],
 "metadata": {
  "kernelspec": {
   "display_name": "Java",
   "language": "java",
   "name": "java"
  },
  "language_info": {
   "codemirror_mode": "java",
   "file_extension": ".jshell",
   "mimetype": "text/x-java-source",
   "name": "Java",
   "pygments_lexer": "java",
   "version": "11.0.7+8-LTS"
  }
 },
 "nbformat": 4,
 "nbformat_minor": 2
}
