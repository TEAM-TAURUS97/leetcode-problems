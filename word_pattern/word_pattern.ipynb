{
 "cells": [
  {
   "cell_type": "code",
   "execution_count": 207,
   "metadata": {},
   "outputs": [],
   "source": [
    "def word_pattern(pattern, s):\n",
    "    f = []\n",
    "    d = {}\n",
    "    s = s.split(' ')\n",
    "\n",
    "    if len(s) != len(pattern):\n",
    "        return False\n",
    "\n",
    "    for i in range(len(pattern)):\n",
    "        if pattern[i] not in d.keys() and s[i] not in d.values():\n",
    "            d[pattern[i]] = s[i]\n",
    "            \n",
    "        if pattern[i] in d.keys():\n",
    "            f.append(d[pattern[i]])\n",
    "\n",
    "    print(d)\n",
    "    print(f)\n",
    "    print(s)\n",
    "    return f == s"
   ]
  },
  {
   "cell_type": "code",
   "execution_count": 209,
   "metadata": {},
   "outputs": [
    {
     "name": "stdout",
     "output_type": "stream",
     "text": [
      "{'a': 'dog', 'b': 'cat'}\n",
      "['dog', 'cat', 'cat', 'dog']\n",
      "['dog', 'cat', 'cat', 'dog']\n"
     ]
    },
    {
     "data": {
      "text/plain": [
       "True"
      ]
     },
     "execution_count": 209,
     "metadata": {},
     "output_type": "execute_result"
    }
   ],
   "source": [
    "pattern = 'abba'\n",
    "s = 'dog cat cat dog'\n",
    "word_pattern(pattern, s)"
   ]
  },
  {
   "cell_type": "code",
   "execution_count": 175,
   "metadata": {},
   "outputs": [
    {
     "name": "stdout",
     "output_type": "stream",
     "text": [
      "{'a': 'dog', 'b': 'cat'}\n",
      "['dog', 'cat', 'cat', 'dog']\n",
      "['dog', 'cat', 'cat', 'fish']\n"
     ]
    },
    {
     "data": {
      "text/plain": [
       "False"
      ]
     },
     "execution_count": 175,
     "metadata": {},
     "output_type": "execute_result"
    }
   ],
   "source": [
    "pattern = 'abba'\n",
    "s = 'dog cat cat fish'\n",
    "word_pattern(pattern, s)"
   ]
  },
  {
   "cell_type": "code",
   "execution_count": 210,
   "metadata": {},
   "outputs": [
    {
     "name": "stdout",
     "output_type": "stream",
     "text": [
      "{'a': 'dog'}\n",
      "['dog', 'dog', 'dog', 'dog']\n",
      "['dog', 'cat', 'cat', 'dog']\n"
     ]
    },
    {
     "data": {
      "text/plain": [
       "False"
      ]
     },
     "execution_count": 210,
     "metadata": {},
     "output_type": "execute_result"
    }
   ],
   "source": [
    "pattern = 'aaaa'\n",
    "s = 'dog cat cat dog'\n",
    "word_pattern(pattern, s)"
   ]
  },
  {
   "cell_type": "code",
   "execution_count": 211,
   "metadata": {},
   "outputs": [
    {
     "name": "stdout",
     "output_type": "stream",
     "text": [
      "{'a': 'dog'}\n",
      "['dog', 'dog']\n",
      "['dog', 'dog', 'dog', 'dog']\n"
     ]
    },
    {
     "data": {
      "text/plain": [
       "False"
      ]
     },
     "execution_count": 211,
     "metadata": {},
     "output_type": "execute_result"
    }
   ],
   "source": [
    "pattern = 'abba'\n",
    "s = 'dog dog dog dog'\n",
    "word_pattern(pattern, s)"
   ]
  },
  {
   "cell_type": "code",
   "execution_count": 212,
   "metadata": {},
   "outputs": [
    {
     "name": "stdout",
     "output_type": "stream",
     "text": [
      "{'a': 'b', 'b': 'c', 'c': 'a'}\n",
      "['b', 'c', 'a']\n",
      "['b', 'c', 'a']\n"
     ]
    },
    {
     "data": {
      "text/plain": [
       "True"
      ]
     },
     "execution_count": 212,
     "metadata": {},
     "output_type": "execute_result"
    }
   ],
   "source": [
    "pattern = 'abc'\n",
    "s = 'b c a'\n",
    "word_pattern(pattern, s)"
   ]
  },
  {
   "cell_type": "code",
   "execution_count": 213,
   "metadata": {},
   "outputs": [
    {
     "data": {
      "text/plain": [
       "False"
      ]
     },
     "execution_count": 213,
     "metadata": {},
     "output_type": "execute_result"
    }
   ],
   "source": [
    "pattern = \"jquery\"\n",
    "s = \"jquery\"\n",
    "word_pattern(pattern, s)"
   ]
  },
  {
   "cell_type": "code",
   "execution_count": 214,
   "metadata": {},
   "outputs": [
    {
     "data": {
      "text/plain": [
       "False"
      ]
     },
     "execution_count": 214,
     "metadata": {},
     "output_type": "execute_result"
    }
   ],
   "source": [
    "pattern = \"aba\"\n",
    "s = \"cat cat cat dog\"\n",
    "word_pattern(pattern, s)"
   ]
  }
 ],
 "metadata": {
  "kernelspec": {
   "display_name": "Python 3",
   "language": "python",
   "name": "python3"
  },
  "language_info": {
   "codemirror_mode": {
    "name": "ipython",
    "version": 3
   },
   "file_extension": ".py",
   "mimetype": "text/x-python",
   "name": "python",
   "nbconvert_exporter": "python",
   "pygments_lexer": "ipython3",
   "version": "3.8.10"
  },
  "orig_nbformat": 4,
  "vscode": {
   "interpreter": {
    "hash": "17c9b7ee004767e2d3d4104fb82030da1f26991afd816c4bccfd9251c7f4eb5f"
   }
  }
 },
 "nbformat": 4,
 "nbformat_minor": 2
}
