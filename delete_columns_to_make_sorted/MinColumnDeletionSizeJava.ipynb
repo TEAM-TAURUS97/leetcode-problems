{
 "cells": [
  {
   "cell_type": "code",
   "execution_count": null,
   "metadata": {},
   "outputs": [],
   "source": [
    "public int minDeletionSize(String[] strs) {\n",
    "  if (strs.length < 2) return 0;\n",
    "\n",
    "  int delCount = 0;\n",
    "  int outerIdx = 0;\n",
    "\n",
    "  outer:\n",
    "    while (outerIdx < strs[0].length()) {\n",
    "      int inneIdx = 0;\n",
    "      while (inneIdx < strs.length - 1) {\n",
    "        char first = strs[inneIdx].charAt(outerIdx);\n",
    "        char second = strs[inneIdx + 1].charAt(outerIdx);\n",
    "        if (first > second) {\n",
    "          delCount++;\n",
    "          outerIdx++;\n",
    "          continue outer;\n",
    "        } else inneIdx++;\n",
    "      }\n",
    "      outerIdx++;\n",
    "    }\n",
    "  return delCount;\n",
    "}"
   ]
  },
  {
   "cell_type": "markdown",
   "metadata": {},
   "source": [
    "## Example 1\n",
    "\n",
    "Input: strs = [\"cba\",\"daf\",\"ghi\"]\n",
    "\n",
    "Output: 1\n",
    "\n",
    "Explanation: The grid looks as follows:\n",
    "  cba\n",
    "  daf\n",
    "  ghi\n",
    "  \n",
    "Columns 0 and 2 are sorted, but column 1 is not, so you only need to delete 1 column."
   ]
  },
  {
   "cell_type": "code",
   "execution_count": null,
   "metadata": {},
   "outputs": [],
   "source": [
    "String[] strs1 = {\"cba\",\"daf\",\"ghi\"};\n",
    "System.out.println(minDeletionSize(strs1));"
   ]
  },
  {
   "cell_type": "markdown",
   "metadata": {},
   "source": [
    "## Example 2\n",
    "\n",
    "Input: strs = [\"a\",\"b\"]\n",
    "\n",
    "Output: 0\n",
    "\n",
    "Explanation: The grid looks as follows:\n",
    "  a\n",
    "  b\n",
    "  \n",
    "Column 0 is the only column and is sorted, so you will not delete any columns."
   ]
  },
  {
   "cell_type": "code",
   "execution_count": null,
   "metadata": {},
   "outputs": [],
   "source": [
    "String[] strs2 = {\"a\",\"b\"};\n",
    "System.out.println(minDeletionSize(strs2));"
   ]
  },
  {
   "cell_type": "markdown",
   "metadata": {},
   "source": [
    "## Example 3\n",
    "\n",
    "Input: strs = [\"zyx\",\"wvu\",\"tsr\"]\n",
    "\n",
    "Output: 3\n",
    "\n",
    "Explanation: The grid looks as follows:\n",
    "  zyx\n",
    "  wvu\n",
    "  tsr\n",
    "  \n",
    "All 3 columns are not sorted, so you will delete all 3."
   ]
  },
  {
   "cell_type": "code",
   "execution_count": null,
   "metadata": {},
   "outputs": [],
   "source": [
    "String[] strs3 = {\"zyx\",\"wvu\",\"tsr\"};\n",
    "System.out.println(minDeletionSize(strs3));"
   ]
  }
 ],
 "metadata": {
  "kernelspec": {
   "display_name": "Java",
   "language": "java",
   "name": "java"
  },
  "language_info": {
   "codemirror_mode": "java",
   "file_extension": ".jshell",
   "mimetype": "text/x-java-source",
   "name": "Java",
   "pygments_lexer": "java",
   "version": "17.0.5+8-Ubuntu-2ubuntu120.04"
  }
 },
 "nbformat": 4,
 "nbformat_minor": 4
}
