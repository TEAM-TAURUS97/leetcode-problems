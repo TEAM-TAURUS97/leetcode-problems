{
 "cells": [
  {
   "cell_type": "markdown",
   "metadata": {},
   "source": [
    "There is a special square room with mirrors on each of the four walls. Except for the southwest corner, there are receptors on each of the remaining corners, numbered 0, 1, and 2.\n",
    "\n",
    "The square room has walls of length p and a laser ray from the southwest corner first meets the east wall at a distance q from the 0th receptor.\n",
    "\n",
    "Given the two integers p and q, return the number of the receptor that the ray meets first.\n",
    "\n",
    "The test cases are guaranteed so that the ray will meet a receptor eventually.\n",
    "\n",
    " <img src=\"https://s3-lc-upload.s3.amazonaws.com/uploads/2018/06/18/reflection.png\" alt=\"image info\" />\n",
    "\n",
    "Example 1:\n",
    "\n",
    "Input: p = 2, q = 1\n",
    "\n",
    "Output: 2\n",
    "\n",
    "Explanation: The ray meets receptor 2 the first time it gets reflected back to the left wall.\n",
    "\n",
    "Example 2:\n",
    "\n",
    "Input: p = 3, q = 1\n",
    "\n",
    "Output: 1\n",
    "\n",
    " \n",
    "\n",
    "Constraints:\n",
    "\n",
    "    1 <= q <= p <= 1000\n",
    "\n"
   ]
  },
  {
   "cell_type": "markdown",
   "metadata": {},
   "source": [
    "### My Solution"
   ]
  },
  {
   "cell_type": "code",
   "execution_count": 49,
   "metadata": {},
   "outputs": [
    {
     "name": "stdout",
     "output_type": "stream",
     "text": [
      "2\n"
     ]
    }
   ],
   "source": [
    "p = 4\n",
    "q = 3\n",
    "\n",
    "tp = p\n",
    "lc = [2, -1]\n",
    "rc = [1, 0]\n",
    "i = 0\n",
    "\n",
    "while True:\n",
    "    r = tp % q\n",
    "    i = i % 2\n",
    "    # print(f'{tp} % {q} = {tp%q}')\n",
    "    if r == 0:\n",
    "        c = int(tp / q)\n",
    "        if(c % 2) == 0:\n",
    "            print(lc[i])\n",
    "        else:\n",
    "            print(rc[i])\n",
    "        break\n",
    "    else:\n",
    "        tp = tp + p\n",
    "        i = i + 1\n",
    "\n"
   ]
  },
  {
   "cell_type": "markdown",
   "metadata": {},
   "source": [
    "### Best Solution"
   ]
  },
  {
   "cell_type": "markdown",
   "metadata": {},
   "source": [
    "Approach :\n",
    "\n",
    "    First, think about the case p = 3 & q = 2.\n",
    "\n",
    "<img src=\"https://assets.leetcode.com/users/images/c77ce1cd-d6cc-4b2c-93b3-07708e001810_1659572389.3219862.png\" alt=\"image info\" />\n",
    "\n",
    "    So, this problem can be transformed into finding m * p = n * q, where\n",
    "    m = the number of room extension + 1.\n",
    "    n = the number of light reflection + 1.\n",
    "\n",
    "    If the number of light reflection is odd (which means n is even), it means the corner is on the left-hand side. The possible corner is 2.\n",
    "    Otherwise, the corner is on the right-hand side. The possible corners are 0 and 1.\n",
    "    Given the corner is on the right-hand side.\n",
    "    If the number of room extension is even (which means m is odd), it means the corner is 1. Otherwise, the corner is 0.\n",
    "\n",
    "    m is even & n is odd => return 0.\n",
    "    m is odd & n is odd => return 1.\n",
    "    m is odd & n is even => return 2.\n",
    "\n",
    "Note: The case m is even & n is even is impossible. Because in the equation m * q = n * p, if m and n are even, we can divide both m and n by 2. Then, m or n must be odd.\n",
    "\n",
    "--\n",
    "Because we want to find m * p = n * q, where either m or n is odd, we can do it this way."
   ]
  },
  {
   "cell_type": "code",
   "execution_count": 50,
   "metadata": {},
   "outputs": [
    {
     "name": "stdout",
     "output_type": "stream",
     "text": [
      "2\n"
     ]
    }
   ],
   "source": [
    "p = 4\n",
    "q = 3\n",
    "\n",
    "while p % 2 == 0 and q % 2 == 0: \n",
    "    p, q = p / 2, q / 2\n",
    "\n",
    "print(1 - p % 2 + q % 2)"
   ]
  }
 ],
 "metadata": {
  "kernelspec": {
   "display_name": "Python 3 (ipykernel)",
   "language": "python",
   "name": "python3"
  },
  "language_info": {
   "codemirror_mode": {
    "name": "ipython",
    "version": 3
   },
   "file_extension": ".py",
   "mimetype": "text/x-python",
   "name": "python",
   "nbconvert_exporter": "python",
   "pygments_lexer": "ipython3",
   "version": "3.8.10"
  },
  "vscode": {
   "interpreter": {
    "hash": "916dbcbb3f70747c44a77c7bcd40155683ae19c65e1c03b4aa3499c5328201f1"
   }
  }
 },
 "nbformat": 4,
 "nbformat_minor": 2
}
