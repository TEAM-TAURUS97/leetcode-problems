{
 "cells": [
  {
   "cell_type": "markdown",
   "metadata": {},
   "source": [
    "### Scrolling Numbers\n",
    "#### Programming challerge description:\n",
    "\n",
    "You have been given a special kind of lock to open called a \"Scrolling Combination Lock\" The lock has 9 keys numbered from 1 to 9.\n",
    "Additionally, there are two numbers printed beow the keys suggesting a range of values. To open the lock, you must enter all the numbers in the range that are \"Scatting Numbers\"\n",
    "\n",
    "A Scrolling Number is a number that has two characterisitics:\n",
    "\n",
    "    No digits repeat themselves.\n",
    "    All digits in the number \"scroll\" through themselves.\n",
    "\n",
    "How To Scroll:\n",
    "\n",
    "Beginning with the leftmost digit, take that digit's value D and move D digits to the right. When scrolling, if the last digit of the number is reached, wrap back to the leftmost digit as many times as needed to move to total of D digits. After scrolling to a new digit, repeat the process using the new digits's value for D.\n",
    "\n",
    "A Scrolling Number will visit every digit exactly once and end at the leftmost digit.\n",
    "\n",
    "For example, consider the Scrolling Number 6231.\n",
    "\n",
    "    Start with the digit 6.\n",
    "    Advance 6 steps, wrapping around once, to the digit 3.\n",
    "    From 3 advance to 2, again wrapping around once\n",
    "    From 2 advance to 1\n",
    "    From 1 advance to 6 in a final wrap\n",
    "\n",
    "Input:\n",
    "The input is the range of integers to consider for the lock, expressed in the format A, B\n",
    "Each integer A and B is 1 <= A <= B <= 10000.\n",
    "\n",
    "Output:\n",
    "Print all Scrolling Numbers between A and B inclusive, each on a single line. These are the combinations that will open the lock.\n",
    "\n",
    "If there are no Scrolling Numbers between A and B print -1.\n",
    "\n",
    "**Test 1**\n",
    "\n",
    "Test Input:\n",
    "\n",
    "```100,500```\n",
    "\n",
    "Expected Output:\n",
    "```\n",
    "147\n",
    "174\n",
    "258\n",
    "285\n",
    "417\n",
    "471\n",
    "```\n",
    "\n",
    "**Test 2**\n",
    "\n",
    "Test Input:\n",
    "```1000, 2000```\n",
    "\n",
    "Expected Output:\n",
    "```\n",
    "1263\n",
    "1267\n",
    "1623\n",
    "1627\n",
    "```"
   ]
  },
  {
   "cell_type": "code",
   "execution_count": 1,
   "metadata": {},
   "outputs": [],
   "source": [
    "def move_position(current_position, current_number, total_position):\n",
    "    position_to_move = current_position + int(current_number)\n",
    "    position_to_move = position_to_move % (total_position+1)\n",
    "    return (position_to_move)"
   ]
  },
  {
   "cell_type": "code",
   "execution_count": 3,
   "metadata": {
    "scrolled": false
   },
   "outputs": [],
   "source": [
    "def find_scrolling_number(start, end):\n",
    "    without_repeated_and_zero = []\n",
    "    scrolling_number = []\n",
    "    position_list = []\n",
    "\n",
    "\n",
    "    # remove repeated and zero\n",
    "    for i in range(start, end + 1):\n",
    "\n",
    "        repeated = False\n",
    "        for position, number in enumerate(str(i)):\n",
    "            temp_i = str(i)[0 : position : ] + str(i)[position + 1 : :]\n",
    "            if number in (temp_i):\n",
    "                repeated = True\n",
    "        if not repeated and ('0' not in str(i)):\n",
    "            without_repeated_and_zero.append(i)\n",
    "\n",
    "\n",
    "    # -------------------------------------------------\n",
    "    # find scrolling numbers\n",
    "    # -------------------------------------------------\n",
    "\n",
    "    for i in without_repeated_and_zero:\n",
    "        last_position = len(str(i)) - 1\n",
    "\n",
    "        position = 0\n",
    "        number = str(i)[position]\n",
    "        for j in str(i):\n",
    "            position_to_move = move_position(position, number, last_position)\n",
    "\n",
    "            position_list.append(position_to_move)\n",
    "            position = position_to_move\n",
    "            number = str(i)[position]\n",
    "        if len(set(position_list)) == last_position+1:\n",
    "            scrolling_number.append(i)\n",
    "        position_list = []\n",
    "\n",
    "    return scrolling_number"
   ]
  },
  {
   "cell_type": "code",
   "execution_count": 8,
   "metadata": {
    "scrolled": true
   },
   "outputs": [
    {
     "data": {
      "text/plain": [
       "[147, 174, 258, 285, 417, 471]"
      ]
     },
     "execution_count": 8,
     "metadata": {},
     "output_type": "execute_result"
    }
   ],
   "source": [
    "# Test 1\n",
    "start = 100\n",
    "end = 500\n",
    "\n",
    "find_scrolling_number(start, end)"
   ]
  },
  {
   "cell_type": "code",
   "execution_count": 9,
   "metadata": {},
   "outputs": [
    {
     "data": {
      "text/plain": [
       "[1263, 1267, 1623, 1627]"
      ]
     },
     "execution_count": 9,
     "metadata": {},
     "output_type": "execute_result"
    }
   ],
   "source": [
    "# Test 2\n",
    "start = 1000\n",
    "end = 2000\n",
    "\n",
    "find_scrolling_number(start, end)"
   ]
  }
 ],
 "metadata": {
  "kernelspec": {
   "display_name": "Python 3 (ipykernel)",
   "language": "python",
   "name": "python3"
  },
  "language_info": {
   "codemirror_mode": {
    "name": "ipython",
    "version": 3
   },
   "file_extension": ".py",
   "mimetype": "text/x-python",
   "name": "python",
   "nbconvert_exporter": "python",
   "pygments_lexer": "ipython3",
   "version": "3.8.10"
  }
 },
 "nbformat": 4,
 "nbformat_minor": 2
}
