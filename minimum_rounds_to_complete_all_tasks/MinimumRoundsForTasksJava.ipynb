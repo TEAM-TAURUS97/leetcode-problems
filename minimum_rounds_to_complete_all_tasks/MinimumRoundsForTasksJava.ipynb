{
 "cells": [
  {
   "cell_type": "code",
   "execution_count": 7,
   "metadata": {},
   "outputs": [],
   "source": [
    "import java.util.HashMap;\n",
    "import java.util.Map;\n",
    "\n",
    "public int minimumRounds(int[] tasks) {\n",
    "  int round = 0;\n",
    "  HashMap < Integer, Integer > map = new HashMap < > ();\n",
    "  for (int task: tasks) {\n",
    "    map.merge(task, 1, Integer::sum);\n",
    "  }\n",
    "  for (Map.Entry < Integer, Integer > entry: map.entrySet()) {\n",
    "    if (entry.getValue() < 2) return -1;\n",
    "    int remainder = entry.getValue() % 3;\n",
    "    int value = entry.getValue() / 3;\n",
    "    if (remainder == 0) {\n",
    "      round += value;\n",
    "    } else if (remainder == 1) {\n",
    "      round += value - 1;\n",
    "      round += (remainder + 3) / 2;\n",
    "    } else {\n",
    "      round += value;\n",
    "      round += remainder / 2;\n",
    "    }\n",
    "  }\n",
    "  return round;\n",
    "}"
   ]
  },
  {
   "cell_type": "markdown",
   "metadata": {},
   "source": [
    "## Example 1\n",
    "\n",
    "Input: tasks = [2,2,3,3,2,4,4,4,4,4]\n",
    "\n",
    "Output: 4\n",
    "\n",
    "Explanation: To complete all the tasks, a possible plan is:\n",
    "- In the first round, you complete 3 tasks of difficulty level 2. \n",
    "- In the second round, you complete 2 tasks of difficulty level 3. \n",
    "- In the third round, you complete 3 tasks of difficulty level 4. \n",
    "- In the fourth round, you complete 2 tasks of difficulty level 4.  \n",
    "It can be shown that all the tasks cannot be completed in fewer than 4 rounds, so the answer is 4."
   ]
  },
  {
   "cell_type": "code",
   "execution_count": 8,
   "metadata": {},
   "outputs": [
    {
     "name": "stdout",
     "output_type": "stream",
     "text": [
      "4\n"
     ]
    }
   ],
   "source": [
    "int[] tasks1 = {2,2,3,3,2,4,4,4,4,4};\n",
    "System.out.println(minimumRounds(tasks1));"
   ]
  },
  {
   "cell_type": "markdown",
   "metadata": {},
   "source": [
    "## Example 2\n",
    "\n",
    "Input: tasks = [2,3,3]\n",
    "\n",
    "Output: -1\n",
    "\n",
    "Explanation: There is only 1 task of difficulty level 2, but in each round, you can only complete either 2 or 3 tasks of the same difficulty level. Hence, you cannot complete all the tasks, and the answer is -1."
   ]
  },
  {
   "cell_type": "code",
   "execution_count": 9,
   "metadata": {},
   "outputs": [
    {
     "name": "stdout",
     "output_type": "stream",
     "text": [
      "-1\n"
     ]
    }
   ],
   "source": [
    "int[] tasks2 = {2,3,3};\n",
    "System.out.println(minimumRounds(tasks2));"
   ]
  }
 ],
 "metadata": {
  "kernelspec": {
   "display_name": "Java",
   "language": "java",
   "name": "java"
  },
  "language_info": {
   "codemirror_mode": "java",
   "file_extension": ".jshell",
   "mimetype": "text/x-java-source",
   "name": "Java",
   "pygments_lexer": "java",
   "version": "17.0.5+8-Ubuntu-2ubuntu120.04"
  }
 },
 "nbformat": 4,
 "nbformat_minor": 4
}
